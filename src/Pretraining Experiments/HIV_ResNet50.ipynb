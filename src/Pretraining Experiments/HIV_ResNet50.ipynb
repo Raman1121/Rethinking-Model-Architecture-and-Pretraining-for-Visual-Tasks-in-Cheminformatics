{
 "cells": [
  {
   "cell_type": "code",
   "execution_count": 1,
   "metadata": {},
   "outputs": [],
   "source": [
    "import sys\n",
    "sys.path.insert(1, '/home/jupyter-rdutt2/Raman Data/Utils')"
   ]
  },
  {
   "cell_type": "code",
   "execution_count": 19,
   "metadata": {},
   "outputs": [],
   "source": [
    "#from utils import *\n",
    "from general_utils import *\n",
    "from pretraining_utils import *\n",
    "\n",
    "from tensorflow.keras import Sequential\n",
    "from tensorflow.keras.layers import *\n",
    "from tensorflow.keras.callbacks import ReduceLROnPlateau, LearningRateScheduler\n",
    "import tensorflow.keras.backend as K\n",
    "import tensorflow_addons as tfa\n",
    "\n",
    "from learningratefinder import LearningRateFinder\n",
    "\n",
    "import numpy as np\n",
    "import matplotlib.pyplot as plt\n",
    "import math"
   ]
  },
  {
   "cell_type": "code",
   "execution_count": 3,
   "metadata": {},
   "outputs": [],
   "source": [
    "BATCH_SIZE=128\n",
    "lr=0.3\n",
    "momentum=0.9\n",
    "EPOCHS=50"
   ]
  },
  {
   "cell_type": "code",
   "execution_count": 4,
   "metadata": {},
   "outputs": [],
   "source": [
    "def focal_loss(gamma=2., alpha=.25):\n",
    "    def focal_loss_fixed(y_true, y_pred):\n",
    "        pt_1 = tf.where(tf.equal(y_true, 1), y_pred, tf.ones_like(y_pred))\n",
    "        pt_0 = tf.where(tf.equal(y_true, 0), y_pred, tf.zeros_like(y_pred))\n",
    "\n",
    "        pt_1 = K.clip(pt_1, 1e-3, .999)\n",
    "        pt_0 = K.clip(pt_0, 1e-3, .999)\n",
    "\n",
    "        return -K.sum(alpha * K.pow(1. - pt_1, gamma) * K.log(pt_1))-K.sum((1-alpha) * K.pow( pt_0, gamma) * K.log(1. - pt_0))\n",
    "\n",
    "    return focal_loss_fixed\n",
    "\n",
    "def get_cosine_schedule_with_warmup(lr,num_warmup_steps, num_training_steps, num_cycles=0.75):\n",
    "  \n",
    "    def lrfn(epoch):\n",
    "        if epoch < num_warmup_steps:\n",
    "            return (float(epoch) / float(max(1, num_warmup_steps))) * lr\n",
    "\n",
    "        progress = float(epoch - num_warmup_steps ) / float(max(1, num_training_steps - num_warmup_steps))\n",
    "\n",
    "        return max(0.0, 0.5 * (1.0 + math.cos(math.pi * float(num_cycles) * 2.0 * progress))) * lr\n",
    "\n",
    "    return LearningRateScheduler(lrfn, verbose=True)\n",
    "\n",
    "lr_schedule= get_cosine_schedule_with_warmup(lr=0.00004,num_warmup_steps=4, num_training_steps=EPOCHS)"
   ]
  },
  {
   "cell_type": "markdown",
   "metadata": {},
   "source": [
    "# HIV Dataset\n"
   ]
  },
  {
   "cell_type": "code",
   "execution_count": 5,
   "metadata": {},
   "outputs": [
    {
     "data": {
      "text/plain": [
       "((32757, 160, 160, 3), (4095, 160, 160, 3))"
      ]
     },
     "execution_count": 5,
     "metadata": {},
     "output_type": "execute_result"
    }
   ],
   "source": [
    "#Directly loading since dataset has already been saved\n",
    "x_train=np.load('../hiv/hiv_images_std_resized_train.npy')\n",
    "x_val=np.load('../hiv/hiv_images_std_resized_val.npy')\n",
    "x_train.shape, x_val.shape"
   ]
  },
  {
   "cell_type": "code",
   "execution_count": 6,
   "metadata": {},
   "outputs": [
    {
     "name": "stdout",
     "output_type": "stream",
     "text": [
      "../hiv/hiv-featurized/smiles2img/std/index/train_dir/\n",
      "Labels length:  32757\n",
      "../hiv/hiv-featurized/smiles2img/std/index/valid_dir/\n",
      "Labels length:  4095\n"
     ]
    },
    {
     "data": {
      "text/plain": [
       "2"
      ]
     },
     "execution_count": 6,
     "metadata": {},
     "output_type": "execute_result"
    }
   ],
   "source": [
    "y_train = get_labels('hiv', 'train', 'std')\n",
    "y_val = get_labels('hiv', 'valid', 'std')\n",
    "num_classes = len(np.unique(y_train))\n",
    "num_classes"
   ]
  },
  {
   "cell_type": "code",
   "execution_count": 7,
   "metadata": {},
   "outputs": [
    {
     "data": {
      "text/plain": [
       "((32757, 160, 160, 3), (32757, 1), (4095, 160, 160, 3), (4095, 1))"
      ]
     },
     "execution_count": 7,
     "metadata": {},
     "output_type": "execute_result"
    }
   ],
   "source": [
    "x_train.shape, y_train.shape, x_val.shape, y_val.shape"
   ]
  },
  {
   "cell_type": "code",
   "execution_count": 8,
   "metadata": {},
   "outputs": [
    {
     "data": {
      "text/plain": [
       "[31705, 1052]"
      ]
     },
     "execution_count": 8,
     "metadata": {},
     "output_type": "execute_result"
    }
   ],
   "source": [
    "[np.count_nonzero(y_train == 0), np.count_nonzero(y_train == 1)]"
   ]
  },
  {
   "cell_type": "code",
   "execution_count": 25,
   "metadata": {},
   "outputs": [
    {
     "data": {
      "text/plain": [
       "[3972, 123]"
      ]
     },
     "execution_count": 25,
     "metadata": {},
     "output_type": "execute_result"
    }
   ],
   "source": [
    "[np.count_nonzero(y_val == 0), np.count_nonzero(y_val == 1)]"
   ]
  },
  {
   "cell_type": "code",
   "execution_count": 9,
   "metadata": {},
   "outputs": [
    {
     "data": {
      "image/png": "[encoded data removed]",
      "text/plain": [
       "<Figure size 432x288 with 1 Axes>"
      ]
     },
     "metadata": {
      "needs_background": "light"
     },
     "output_type": "display_data"
    }
   ],
   "source": [
    "fig = plt.figure()\n",
    "ax = fig.add_axes([0,0,1,1])\n",
    "langs = ['Inactive', 'Active']\n",
    "students = [np.count_nonzero(y_train == 0), np.count_nonzero(y_train == 1)]\n",
    "ax.bar(langs,students)\n",
    "plt.show()"
   ]
  },
  {
   "cell_type": "code",
   "execution_count": 10,
   "metadata": {},
   "outputs": [
    {
     "data": {
      "text/plain": [
       "((32757, 2), (4095, 2))"
      ]
     },
     "execution_count": 10,
     "metadata": {},
     "output_type": "execute_result"
    }
   ],
   "source": [
    "y_train_cat = to_categorical(y_train)\n",
    "y_val_cat = to_categorical(y_val)\n",
    "y_train_cat.shape, y_val_cat.shape"
   ]
  },
  {
   "cell_type": "code",
   "execution_count": 11,
   "metadata": {},
   "outputs": [],
   "source": [
    "STEPS_PER_EPOCH=x_train.shape[0]//BATCH_SIZE\n",
    "VAL_STEPS=x_val.shape[0]//BATCH_SIZE"
   ]
  },
  {
   "cell_type": "code",
   "execution_count": 11,
   "metadata": {},
   "outputs": [],
   "source": [
    "optimizer = tf.keras.optimizers.Adam(learning_rate=lr)\n",
    "#loss_fn = tf.keras.losses.BinaryCrossentropy(from_logits=True)\n",
    "loss_fn = focal_loss()    #Focal Loss for imbalanced classification\n",
    "aug = ImageDataGenerator() #ImageDataGenerator with no Augmentation."
   ]
  },
  {
   "cell_type": "markdown",
   "metadata": {},
   "source": [
    "# ResNet50x1"
   ]
  },
  {
   "cell_type": "markdown",
   "metadata": {},
   "source": [
    "## Random Initialization"
   ]
  },
  {
   "cell_type": "code",
   "execution_count": 26,
   "metadata": {},
   "outputs": [
    {
     "name": "stdout",
     "output_type": "stream",
     "text": [
      "Using Noneweights\n"
     ]
    }
   ],
   "source": [
    "from architecture_utils import *\n",
    "\n",
    "resnet=get_model(None, length=50, shape=(x_train.shape[1], x_train.shape[2], x_train.shape[3]))\n",
    "model = tf.keras.Sequential()\n",
    "model.add(resnet)\n",
    "model.add(GlobalAveragePooling2D())\n",
    "model.add(Dropout(0.4))\n",
    "model.add(Dense(512, activation='relu'))\n",
    "model.add(Dense(num_classes, activation='sigmoid'))\n",
    "\n",
    "model.compile(optimizer=optimizer,\n",
    "              loss=tfa.losses.SigmoidFocalCrossEntropy(),\n",
    "              metrics=['accuracy'])"
   ]
  },
  {
   "cell_type": "code",
   "execution_count": 27,
   "metadata": {},
   "outputs": [
    {
     "name": "stdout",
     "output_type": "stream",
     "text": [
      "Model: \"sequential_3\"\n",
      "_________________________________________________________________\n",
      "Layer (type)                 Output Shape              Param #   \n",
      "=================================================================\n",
      "resnet50 (Model)             (None, 5, 5, 2048)        23587712  \n",
      "_________________________________________________________________\n",
      "global_average_pooling2d_2 ( (None, 2048)              0         \n",
      "_________________________________________________________________\n",
      "dropout_2 (Dropout)          (None, 2048)              0         \n",
      "_________________________________________________________________\n",
      "dense_4 (Dense)              (None, 512)               1049088   \n",
      "_________________________________________________________________\n",
      "dense_5 (Dense)              (None, 2)                 1026      \n",
      "=================================================================\n",
      "Total params: 24,637,826\n",
      "Trainable params: 24,584,706\n",
      "Non-trainable params: 53,120\n",
      "_________________________________________________________________\n"
     ]
    }
   ],
   "source": [
    "model.summary()"
   ]
  },
  {
   "cell_type": "markdown",
   "metadata": {},
   "source": [
    "## In case of Random Weights, we find the optimal Learning Rate to start with.\n",
    "### Finding LR"
   ]
  },
  {
   "cell_type": "code",
   "execution_count": 28,
   "metadata": {},
   "outputs": [
    {
     "name": "stdout",
     "output_type": "stream",
     "text": [
      "Epoch 1/7\n",
      "256/256 [==============================] - 1274s 5s/step - loss: 0.0886 - accuracy: 0.9376\n",
      "Epoch 2/7\n",
      "256/256 [==============================] - 1277s 5s/step - loss: 0.0602 - accuracy: 0.9666\n",
      "Epoch 3/7\n",
      "256/256 [==============================] - 1285s 5s/step - loss: 0.0529 - accuracy: 0.9655\n",
      "Epoch 4/7\n",
      "256/256 [==============================] - 1286s 5s/step - loss: 0.0411 - accuracy: 0.9670\n",
      "Epoch 5/7\n",
      "256/256 [==============================] - 1286s 5s/step - loss: 0.0386 - accuracy: 0.9676\n",
      "Epoch 6/7\n",
      "256/256 [==============================] - 1288s 5s/step - loss: 0.2253 - accuracy: 0.9652\n"
     ]
    }
   ],
   "source": [
    "lrf = LearningRateFinder(model)\n",
    "\n",
    "lrf.find(\n",
    "aug.flow(x_train, y_train_cat, batch_size=BATCH_SIZE),\n",
    "1e-7, 1e+1,\n",
    "stepsPerEpoch=np.ceil((len(x_train) / float(BATCH_SIZE))),\n",
    "epochs=7,\n",
    "batchSize=BATCH_SIZE)"
   ]
  },
  {
   "cell_type": "code",
   "execution_count": 29,
   "metadata": {},
   "outputs": [
    {
     "data": {
      "image/png": "[encoded data removed]",
      "text/plain": [
       "<Figure size 432x288 with 1 Axes>"
      ]
     },
     "metadata": {
      "needs_background": "light"
     },
     "output_type": "display_data"
    }
   ],
   "source": [
    "lrf.plot_loss()"
   ]
  },
  {
   "cell_type": "code",
   "execution_count": 30,
   "metadata": {},
   "outputs": [
    {
     "data": {
      "text/plain": [
       "<Figure size 432x288 with 0 Axes>"
      ]
     },
     "metadata": {},
     "output_type": "display_data"
    }
   ],
   "source": [
    "LRFIND_PLOT_PATH = '../Plots/HIV/LRFinder/ResNet50_random_init_focal_loss.png'\n",
    "plt.savefig(LRFIND_PLOT_PATH)"
   ]
  },
  {
   "cell_type": "markdown",
   "metadata": {},
   "source": [
    "### Model init with optimal LR"
   ]
  },
  {
   "cell_type": "code",
   "execution_count": 31,
   "metadata": {},
   "outputs": [],
   "source": [
    "BATCH_SIZE=128\n",
    "lr=3e-6\n",
    "momentum=0.9\n",
    "STEPS_PER_EPOCH=x_train.shape[0]//BATCH_SIZE\n",
    "VAL_STEPS=x_val.shape[0]//BATCH_SIZE"
   ]
  },
  {
   "cell_type": "code",
   "execution_count": 32,
   "metadata": {},
   "outputs": [],
   "source": [
    "optimizer = tf.keras.optimizers.Adam(learning_rate=lr)\n",
    "#loss_fn = tf.keras.losses.BinaryCrossentropy(from_logits=True)\n",
    "loss_fn = tfa.losses.SigmoidFocalCrossEntropy()\n",
    "aug = ImageDataGenerator()"
   ]
  },
  {
   "cell_type": "code",
   "execution_count": 33,
   "metadata": {},
   "outputs": [
    {
     "name": "stdout",
     "output_type": "stream",
     "text": [
      "Using Noneweights\n"
     ]
    }
   ],
   "source": [
    "resnet=get_model(None, length=50, shape=(x_train.shape[1], x_train.shape[2], x_train.shape[3]))\n",
    "model = tf.keras.Sequential()\n",
    "model.add(resnet)\n",
    "model.add(GlobalAveragePooling2D())\n",
    "model.add(Dropout(0.4))\n",
    "model.add(Dense(512, activation='relu'))\n",
    "model.add(Dense(num_classes, activation='sigmoid'))"
   ]
  },
  {
   "cell_type": "code",
   "execution_count": 34,
   "metadata": {},
   "outputs": [
    {
     "data": {
      "text/html": [
       "\n",
       "                Logging results to <a href=\"https://wandb.com\" target=\"_blank\">Weights & Biases</a> <a href=\"https://docs.wandb.com/integrations/jupyter.html\" target=\"_blank\">(Documentation)</a>.<br/>\n",
       "                Project page: <a href=\"https://app.wandb.ai/raman07/summer-2020\" target=\"_blank\">https://app.wandb.ai/raman07/summer-2020</a><br/>\n",
       "                Run page: <a href=\"https://app.wandb.ai/raman07/summer-2020/runs/ResNet50_HIV_random_init_NO_AUG_FOCAL_LOSS\" target=\"_blank\">https://app.wandb.ai/raman07/summer-2020/runs/ResNet50_HIV_random_init_NO_AUG_FOCAL_LOSS</a><br/>\n",
       "            "
      ],
      "text/plain": [
       "<IPython.core.display.HTML object>"
      ]
     },
     "metadata": {},
     "output_type": "display_data"
    },
    {
     "name": "stderr",
     "output_type": "stream",
     "text": [
      "Failed to query for notebook name, you can set it manually with the WANDB_NOTEBOOK_NAME environment variable\n",
      "\u001b[34m\u001b[1mwandb\u001b[0m: Wandb version 0.9.4 is available!  To upgrade, please run:\n",
      "\u001b[34m\u001b[1mwandb\u001b[0m:  $ pip install wandb --upgrade\n"
     ]
    }
   ],
   "source": [
    "config_defaults = dict(\n",
    "    batch_size=BATCH_SIZE,\n",
    "    momentum=momentum,\n",
    "    learn_rate=lr\n",
    "    )\n",
    "wandb.init(project=\"summer-2020\", id=\"ResNet50_HIV_random_init_NO_AUG_FOCAL_LOSS\", config=config_defaults) \n",
    "config = wandb.config"
   ]
  },
  {
   "cell_type": "code",
   "execution_count": 35,
   "metadata": {},
   "outputs": [
    {
     "name": "stderr",
     "output_type": "stream",
     "text": [
      "Failed to query for notebook name, you can set it manually with the WANDB_NOTEBOOK_NAME environment variable\n",
      "\u001b[34m\u001b[1mwandb\u001b[0m: Wandb version 0.9.4 is available!  To upgrade, please run:\n",
      "\u001b[34m\u001b[1mwandb\u001b[0m:  $ pip install wandb --upgrade\n"
     ]
    }
   ],
   "source": [
    "model.compile(optimizer=optimizer,\n",
    "              loss=loss_fn,\n",
    "              metrics=['accuracy'])\n",
    "filepath='../Models/HIV/resnet50_random_focal_loss.h5'\n",
    "mc = ModelCheckpoint(filepath=filepath , monitor='val_loss', save_weights_only=False, save_model=True, save_best_only=True)\n",
    "wb = WandbCallback(monitor='val_loss', save_weights_only=False, save_model=True)\n",
    "callbacks=[mc, wb]"
   ]
  },
  {
   "cell_type": "code",
   "execution_count": null,
   "metadata": {},
   "outputs": [
    {
     "name": "stdout",
     "output_type": "stream",
     "text": [
      "Epoch 1/50\n"
     ]
    },
    {
     "name": "stderr",
     "output_type": "stream",
     "text": [
      "Failed to query for notebook name, you can set it manually with the WANDB_NOTEBOOK_NAME environment variable\n",
      "\u001b[34m\u001b[1mwandb\u001b[0m: Wandb version 0.9.4 is available!  To upgrade, please run:\n",
      "\u001b[34m\u001b[1mwandb\u001b[0m:  $ pip install wandb --upgrade\n"
     ]
    },
    {
     "name": "stdout",
     "output_type": "stream",
     "text": [
      "255/255 [==============================] - 1307s 5s/step - loss: 0.0668 - accuracy: 0.9548 - val_loss: 0.0528 - val_accuracy: 0.9700\n",
      "Epoch 2/50\n",
      "255/255 [==============================] - 1279s 5s/step - loss: 0.0559 - accuracy: 0.9663 - val_loss: 0.0451 - val_accuracy: 0.9700\n",
      "Epoch 3/50\n",
      "255/255 [==============================] - 1272s 5s/step - loss: 0.0521 - accuracy: 0.9665 - val_loss: 0.0429 - val_accuracy: 0.9700\n",
      "Epoch 4/50\n",
      "255/255 [==============================] - 1274s 5s/step - loss: 0.0498 - accuracy: 0.9662 - val_loss: 0.0414 - val_accuracy: 0.9700\n",
      "Epoch 5/50\n",
      "255/255 [==============================] - 1269s 5s/step - loss: 0.0455 - accuracy: 0.9668 - val_loss: 0.0440 - val_accuracy: 0.9700\n",
      "Epoch 6/50\n",
      "255/255 [==============================] - 1268s 5s/step - loss: 0.0431 - accuracy: 0.9672 - val_loss: 0.0404 - val_accuracy: 0.9700\n",
      "Epoch 7/50\n",
      "255/255 [==============================] - 1266s 5s/step - loss: 0.0412 - accuracy: 0.9672 - val_loss: 0.0430 - val_accuracy: 0.9700\n",
      "Epoch 8/50\n",
      "255/255 [==============================] - 1271s 5s/step - loss: 0.0363 - accuracy: 0.9690 - val_loss: 0.0408 - val_accuracy: 0.9700\n",
      "Epoch 9/50\n",
      "255/255 [==============================] - 1267s 5s/step - loss: 0.0338 - accuracy: 0.9700 - val_loss: 0.0459 - val_accuracy: 0.9700\n",
      "Epoch 10/50\n",
      "255/255 [==============================] - 1273s 5s/step - loss: 0.0289 - accuracy: 0.9723 - val_loss: 0.0552 - val_accuracy: 0.9700\n",
      "Epoch 11/50\n",
      "255/255 [==============================] - 1271s 5s/step - loss: 0.0223 - accuracy: 0.9752 - val_loss: 0.0612 - val_accuracy: 0.9705\n",
      "Epoch 12/50\n",
      "255/255 [==============================] - 1272s 5s/step - loss: 0.0166 - accuracy: 0.9791 - val_loss: 0.0681 - val_accuracy: 0.9697\n",
      "Epoch 13/50\n",
      "255/255 [==============================] - 1268s 5s/step - loss: 0.0117 - accuracy: 0.9843 - val_loss: 0.0812 - val_accuracy: 0.9697\n",
      "Epoch 14/50\n",
      "255/255 [==============================] - 1276s 5s/step - loss: 0.0081 - accuracy: 0.9892 - val_loss: 0.0889 - val_accuracy: 0.9697\n",
      "Epoch 15/50\n",
      "255/255 [==============================] - 1301s 5s/step - loss: 0.0063 - accuracy: 0.9928 - val_loss: 0.0726 - val_accuracy: 0.9431\n",
      "Epoch 16/50\n",
      "255/255 [==============================] - 1311s 5s/step - loss: 0.0054 - accuracy: 0.9946 - val_loss: 0.0834 - val_accuracy: 0.9604\n",
      "Epoch 17/50\n",
      "255/255 [==============================] - 1302s 5s/step - loss: 0.0045 - accuracy: 0.9953 - val_loss: 0.1202 - val_accuracy: 0.9702\n",
      "Epoch 18/50\n",
      "255/255 [==============================] - 1289s 5s/step - loss: 0.0042 - accuracy: 0.9954 - val_loss: 0.1054 - val_accuracy: 0.9663\n",
      "Epoch 19/50\n",
      "255/255 [==============================] - 1281s 5s/step - loss: 0.0040 - accuracy: 0.9962 - val_loss: 0.1174 - val_accuracy: 0.9687\n",
      "Epoch 20/50\n",
      "255/255 [==============================] - 1291s 5s/step - loss: 0.0039 - accuracy: 0.9962 - val_loss: 0.1083 - val_accuracy: 0.9653\n",
      "Epoch 21/50\n",
      " 50/255 [====>.........................] - ETA: 16:35 - loss: 0.0050 - accuracy: 0.9956"
     ]
    }
   ],
   "source": [
    "history = model.fit(aug.flow(x_train, y_train_cat, batch_size=BATCH_SIZE),\n",
    "          epochs=50,\n",
    "          verbose=1,\n",
    "          steps_per_epoch = STEPS_PER_EPOCH,\n",
    "          validation_data=(x_val, y_val_cat),\n",
    "          validation_steps=VAL_STEPS,\n",
    "          callbacks=callbacks)"
   ]
  },
  {
   "cell_type": "code",
   "execution_count": 39,
   "metadata": {},
   "outputs": [
    {
     "data": {
      "text/plain": [
       "dict_keys(['loss', 'accuracy', 'val_loss', 'val_accuracy'])"
      ]
     },
     "execution_count": 39,
     "metadata": {},
     "output_type": "execute_result"
    }
   ],
   "source": [
    "history.history.keys()"
   ]
  },
  {
   "cell_type": "code",
   "execution_count": 40,
   "metadata": {},
   "outputs": [
    {
     "data": {
      "image/png": "[encoded data removed]",
      "text/plain": [
       "<Figure size 432x288 with 1 Axes>"
      ]
     },
     "metadata": {
      "needs_background": "light"
     },
     "output_type": "display_data"
    }
   ],
   "source": [
    "plot_acc(history, 'accuracy', 'val_accuracy', True)"
   ]
  },
  {
   "cell_type": "code",
   "execution_count": 42,
   "metadata": {},
   "outputs": [
    {
     "data": {
      "image/png": "[encoded data removed]",
      "text/plain": [
       "<Figure size 432x288 with 1 Axes>"
      ]
     },
     "metadata": {
      "needs_background": "light"
     },
     "output_type": "display_data"
    }
   ],
   "source": [
    "plot_loss(history, 'loss', 'val_loss', True)"
   ]
  },
  {
   "cell_type": "markdown",
   "metadata": {},
   "source": [
    "# Imagenet Weights"
   ]
  },
  {
   "cell_type": "code",
   "execution_count": 20,
   "metadata": {},
   "outputs": [],
   "source": [
    "optimizer = tf.keras.optimizers.Adam(learning_rate=lr)\n",
    "loss_fn = tfa.losses.SigmoidFocalCrossEntropy()\n",
    "aug = ImageDataGenerator()"
   ]
  },
  {
   "cell_type": "code",
   "execution_count": 21,
   "metadata": {},
   "outputs": [
    {
     "name": "stdout",
     "output_type": "stream",
     "text": [
      "Using imagenet weights\n"
     ]
    }
   ],
   "source": [
    "from architecture_utils import *\n",
    "\n",
    "resnet=get_model('imagenet', length=50, shape=(x_train.shape[1], x_train.shape[2], x_train.shape[3]))\n",
    "model = tf.keras.Sequential()\n",
    "model.add(resnet)\n",
    "model.add(GlobalAveragePooling2D())\n",
    "model.add(Dropout(0.4))\n",
    "model.add(Dense(512, activation='relu'))\n",
    "model.add(Dense(num_classes, activation='sigmoid'))\n",
    "\n",
    "model.compile(optimizer=optimizer,\n",
    "              loss=loss_fn,\n",
    "              metrics=['accuracy'])"
   ]
  },
  {
   "cell_type": "markdown",
   "metadata": {},
   "source": [
    "### Using Cosine LR because Fine-Tuning\n"
   ]
  },
  {
   "cell_type": "code",
   "execution_count": 22,
   "metadata": {},
   "outputs": [],
   "source": [
    "BATCH_SIZE=128\n",
    "#lr=1e-3\n",
    "#momentum=0.9\n",
    "STEPS_PER_EPOCH=x_train.shape[0]//BATCH_SIZE\n",
    "VAL_STEPS=x_val.shape[0]//BATCH_SIZE"
   ]
  },
  {
   "cell_type": "code",
   "execution_count": 23,
   "metadata": {},
   "outputs": [
    {
     "data": {
      "text/html": [
       "\n",
       "                Logging results to <a href=\"https://wandb.com\" target=\"_blank\">Weights & Biases</a> <a href=\"https://docs.wandb.com/integrations/jupyter.html\" target=\"_blank\">(Documentation)</a>.<br/>\n",
       "                Project page: <a href=\"https://app.wandb.ai/raman07/summer-2020\" target=\"_blank\">https://app.wandb.ai/raman07/summer-2020</a><br/>\n",
       "                Run page: <a href=\"https://app.wandb.ai/raman07/summer-2020/runs/ResNet50_HIV_imagenet_init_2_NO_AUG_FOCAL_LOSS\" target=\"_blank\">https://app.wandb.ai/raman07/summer-2020/runs/ResNet50_HIV_imagenet_init_2_NO_AUG_FOCAL_LOSS</a><br/>\n",
       "            "
      ],
      "text/plain": [
       "<IPython.core.display.HTML object>"
      ]
     },
     "metadata": {},
     "output_type": "display_data"
    },
    {
     "name": "stderr",
     "output_type": "stream",
     "text": [
      "Failed to query for notebook name, you can set it manually with the WANDB_NOTEBOOK_NAME environment variable\n",
      "\u001b[34m\u001b[1mwandb\u001b[0m: Wandb version 0.9.4 is available!  To upgrade, please run:\n",
      "\u001b[34m\u001b[1mwandb\u001b[0m:  $ pip install wandb --upgrade\n",
      "Streaming file created twice in same run: /home/jupyter-rdutt2/Raman Data/Pretraining Experiments/wandb/run-20200809_152706-ResNet50_HIV_imagenet_init_2_NO_AUG_FOCAL_LOSS/wandb-history.jsonl\n",
      "Streaming file created twice in same run: /home/jupyter-rdutt2/Raman Data/Pretraining Experiments/wandb/run-20200809_152706-ResNet50_HIV_imagenet_init_2_NO_AUG_FOCAL_LOSS/wandb-events.jsonl\n"
     ]
    }
   ],
   "source": [
    "config_defaults = dict(\n",
    "    batch_size=BATCH_SIZE,\n",
    "    momentum=momentum,\n",
    "    learn_rate=lr\n",
    "    )\n",
    "wandb.init(project=\"summer-2020\", id=\"ResNet50_HIV_imagenet_init_2_NO_AUG_FOCAL_LOSS\", config=config_defaults) \n",
    "config = wandb.config"
   ]
  },
  {
   "cell_type": "code",
   "execution_count": 24,
   "metadata": {},
   "outputs": [],
   "source": [
    "model.compile(optimizer=optimizer,\n",
    "              loss=loss_fn,\n",
    "              metrics=['accuracy'])\n",
    "filepath='../Models/HIV/resnet50_imagenet_FOCAL_LOSS.h5'\n",
    "mc = ModelCheckpoint(filepath=filepath , monitor='val_loss', save_weights_only=False, save_model=True, save_best_only=True)\n",
    "\n",
    "wb = WandbCallback(monitor='val_loss', save_weights_only=False, save_model=True)\n",
    "callbacks=[mc, wb, lr_schedule]"
   ]
  },
  {
   "cell_type": "code",
   "execution_count": null,
   "metadata": {},
   "outputs": [
    {
     "name": "stdout",
     "output_type": "stream",
     "text": [
      "\n",
      "Epoch 00001: LearningRateScheduler reducing learning rate to 0.0.\n",
      "Epoch 1/50\n"
     ]
    },
    {
     "name": "stderr",
     "output_type": "stream",
     "text": [
      "Failed to query for notebook name, you can set it manually with the WANDB_NOTEBOOK_NAME environment variable\n",
      "\u001b[34m\u001b[1mwandb\u001b[0m: Wandb version 0.9.4 is available!  To upgrade, please run:\n",
      "\u001b[34m\u001b[1mwandb\u001b[0m:  $ pip install wandb --upgrade\n"
     ]
    },
    {
     "name": "stdout",
     "output_type": "stream",
     "text": [
      "255/255 [==============================] - 1332s 5s/step - loss: 0.3071 - accuracy: 0.5223 - val_loss: 0.0712 - val_accuracy: 0.9700 - lr: 0.0000e+00\n",
      "\n",
      "Epoch 00002: LearningRateScheduler reducing learning rate to 1e-05.\n",
      "Epoch 2/50\n",
      "255/255 [==============================] - 1325s 5s/step - loss: 0.0578 - accuracy: 0.9568 - val_loss: 0.0461 - val_accuracy: 0.9700 - lr: 1.0000e-05\n",
      "\n",
      "Epoch 00003: LearningRateScheduler reducing learning rate to 2e-05.\n",
      "Epoch 3/50\n",
      "255/255 [==============================] - 1326s 5s/step - loss: 0.0387 - accuracy: 0.9679 - val_loss: 0.0441 - val_accuracy: 0.9687 - lr: 2.0000e-05\n",
      "\n",
      "Epoch 00004: LearningRateScheduler reducing learning rate to 3.0000000000000004e-05.\n",
      "Epoch 4/50\n",
      "255/255 [==============================] - 1316s 5s/step - loss: 0.0299 - accuracy: 0.9686 - val_loss: 0.0454 - val_accuracy: 0.9658 - lr: 3.0000e-05\n",
      "\n",
      "Epoch 00005: LearningRateScheduler reducing learning rate to 4e-05.\n",
      "Epoch 5/50\n",
      "255/255 [==============================] - 1321s 5s/step - loss: 0.0213 - accuracy: 0.9704 - val_loss: 0.0553 - val_accuracy: 0.9624 - lr: 4.0000e-05\n",
      "\n",
      "Epoch 00006: LearningRateScheduler reducing learning rate to 3.98951455771619e-05.\n",
      "Epoch 6/50\n",
      "255/255 [==============================] - 1475s 6s/step - loss: 0.0132 - accuracy: 0.9765 - val_loss: 0.0784 - val_accuracy: 0.9648 - lr: 3.9895e-05\n",
      "\n",
      "Epoch 00007: LearningRateScheduler reducing learning rate to 3.958168175364646e-05.\n",
      "Epoch 7/50\n",
      "255/255 [==============================] - 1427s 6s/step - loss: 0.0087 - accuracy: 0.9869 - val_loss: 0.0875 - val_accuracy: 0.9658 - lr: 3.9582e-05\n",
      "\n",
      "Epoch 00008: LearningRateScheduler reducing learning rate to 3.906289533628322e-05.\n",
      "Epoch 8/50\n",
      "255/255 [==============================] - 1472s 6s/step - loss: 0.0108 - accuracy: 0.9842 - val_loss: 0.1020 - val_accuracy: 0.9626 - lr: 3.9063e-05\n",
      "\n",
      "Epoch 00009: LearningRateScheduler reducing learning rate to 3.834422603010906e-05.\n",
      "Epoch 9/50\n",
      "255/255 [==============================] - 1481s 6s/step - loss: 0.0065 - accuracy: 0.9900 - val_loss: 0.1261 - val_accuracy: 0.9673 - lr: 3.8344e-05\n",
      "\n",
      "Epoch 00010: LearningRateScheduler reducing learning rate to 3.743320940065503e-05.\n",
      "Epoch 10/50\n",
      "190/255 [=====================>........] - ETA: 6:04 - loss: 0.0039 - accuracy: 0.9950"
     ]
    }
   ],
   "source": [
    "history = model.fit(aug.flow(x_train, y_train_cat, batch_size=BATCH_SIZE),\n",
    "          epochs=50,\n",
    "          verbose=1,\n",
    "          steps_per_epoch = STEPS_PER_EPOCH,\n",
    "          validation_data=(x_val, y_val_cat),\n",
    "          validation_steps=VAL_STEPS,\n",
    "          callbacks=callbacks)"
   ]
  },
  {
   "cell_type": "code",
   "execution_count": null,
   "metadata": {},
   "outputs": [],
   "source": [
    "plot_acc(history, 'accuracy', 'val_accuracy', True)"
   ]
  },
  {
   "cell_type": "code",
   "execution_count": null,
   "metadata": {},
   "outputs": [],
   "source": [
    "plot_acc(history, 'loss', 'val_loss', True)"
   ]
  }
 ],
 "metadata": {
  "kernelspec": {
   "display_name": "Python 3",
   "language": "python",
   "name": "python3"
  },
  "language_info": {
   "codemirror_mode": {
    "name": "ipython",
    "version": 3
   },
   "file_extension": ".py",
   "mimetype": "text/x-python",
   "name": "python",
   "nbconvert_exporter": "python",
   "pygments_lexer": "ipython3",
   "version": "3.7.3"
  }
 },
 "nbformat": 4,
 "nbformat_minor": 4
}
