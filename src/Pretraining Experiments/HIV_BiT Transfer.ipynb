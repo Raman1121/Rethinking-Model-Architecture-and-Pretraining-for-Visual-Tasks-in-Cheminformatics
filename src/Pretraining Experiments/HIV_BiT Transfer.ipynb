{
 "cells": [
  {
   "cell_type": "code",
   "execution_count": 37,
   "metadata": {},
   "outputs": [],
   "source": [
    "from utils import *\n",
    "from wandb.keras import WandbCallback"
   ]
  },
  {
   "cell_type": "code",
   "execution_count": 31,
   "metadata": {},
   "outputs": [],
   "source": [
    "class MyBiTModel(tf.keras.Model):\n",
    "  \"\"\"BiT with a new head.\"\"\"\n",
    "\n",
    "  def __init__(self, num_classes, module):\n",
    "    super().__init__()\n",
    "\n",
    "    self.num_classes = num_classes\n",
    "    self.head1 = tf.keras.layers.Dense(128, kernel_initializer='zeros') #Necessary to initialize with zeros\n",
    "    self.head2 = tf.keras.layers.Dense(num_classes, kernel_initializer='zeros')\n",
    "    self.bit_model = module\n",
    "  \n",
    "  def call(self, images):\n",
    "    # No need to cut head off since we are using feature extractor model\n",
    "    bit_embedding = self.bit_model(images)\n",
    "    x1 = self.head1(bit_embedding)\n",
    "    x2 = self.head2(x1)\n",
    "    \n",
    "    return x2"
   ]
  },
  {
   "cell_type": "code",
   "execution_count": null,
   "metadata": {},
   "outputs": [],
   "source": [
    "'''x_train, y_train = create_image_data(dataset='hiv', split='train', img_spec='std')\n",
    "print(x_train.shape, y_train.shape)\n",
    "\n",
    "x_val, y_val = create_image_data(dataset='hiv', split='valid', img_spec='std')\n",
    "print(x_val.shape, y_val.shape)'''"
   ]
  },
  {
   "cell_type": "markdown",
   "metadata": {},
   "source": [
    "# HIV Dataset"
   ]
  },
  {
   "cell_type": "code",
   "execution_count": 5,
   "metadata": {},
   "outputs": [
    {
     "data": {
      "text/plain": [
       "((32757, 160, 160, 3), (4095, 160, 160, 3))"
      ]
     },
     "execution_count": 5,
     "metadata": {},
     "output_type": "execute_result"
    }
   ],
   "source": [
    "#Directly loading since dataset has already been saved\n",
    "x_train=np.load('hiv/hiv_images_std_resized_train.npy')\n",
    "x_val=np.load('hiv/hiv_images_std_resized_val.npy')\n",
    "x_train.shape, x_val.shape"
   ]
  },
  {
   "cell_type": "code",
   "execution_count": 6,
   "metadata": {},
   "outputs": [
    {
     "name": "stdout",
     "output_type": "stream",
     "text": [
      "hiv/hiv-featurized/smiles2img/std/index/train_dir/\n",
      "Labels length:  32757\n",
      "hiv/hiv-featurized/smiles2img/std/index/valid_dir/\n",
      "Labels length:  4095\n"
     ]
    }
   ],
   "source": [
    "y_train = get_labels('hiv', 'train', 'std')\n",
    "y_val = get_labels('hiv', 'valid', 'std')"
   ]
  },
  {
   "cell_type": "code",
   "execution_count": 32,
   "metadata": {},
   "outputs": [
    {
     "data": {
      "text/plain": [
       "((32757, 160, 160, 3), (32757, 1), (4095, 160, 160, 3), (4095, 1))"
      ]
     },
     "execution_count": 32,
     "metadata": {},
     "output_type": "execute_result"
    }
   ],
   "source": [
    "x_train.shape, y_train.shape, x_val.shape, y_val.shape"
   ]
  },
  {
   "cell_type": "code",
   "execution_count": 33,
   "metadata": {},
   "outputs": [
    {
     "data": {
      "text/plain": [
       "(array([0., 1.]), array([31705,  1052]))"
      ]
     },
     "execution_count": 33,
     "metadata": {},
     "output_type": "execute_result"
    }
   ],
   "source": [
    "unique, counts = np.unique(y_train, return_counts=True)\n",
    "unique, counts"
   ]
  },
  {
   "cell_type": "code",
   "execution_count": 41,
   "metadata": {},
   "outputs": [
    {
     "name": "stdout",
     "output_type": "stream",
     "text": [
      "0.9 512 0.003 10 10000.0 [3000, 6000, 9000]\n"
     ]
    }
   ],
   "source": [
    "momentum, BATCH_SIZE, lr, STEPS_PER_EPOCH, SCHEDULE_LENGTH,SCHEDULE_BOUNDARIES = init_params(x_train.shape[0], x_train.shape[1])\n",
    "print(momentum, BATCH_SIZE, lr, STEPS_PER_EPOCH, SCHEDULE_LENGTH, SCHEDULE_BOUNDARIES)"
   ]
  },
  {
   "cell_type": "code",
   "execution_count": 42,
   "metadata": {},
   "outputs": [
    {
     "data": {
      "text/html": [
       "\n",
       "                Logging results to <a href=\"https://wandb.com\" target=\"_blank\">Weights & Biases</a> <a href=\"https://docs.wandb.com/integrations/jupyter.html\" target=\"_blank\">(Documentation)</a>.<br/>\n",
       "                Project page: <a href=\"https://app.wandb.ai/raman07/summer-2020\" target=\"_blank\">https://app.wandb.ai/raman07/summer-2020</a><br/>\n",
       "                Run page: <a href=\"https://app.wandb.ai/raman07/summer-2020/runs/BiT_HIV_Rx50_2_NO_Augmentation\" target=\"_blank\">https://app.wandb.ai/raman07/summer-2020/runs/BiT_HIV_Rx50_2_NO_Augmentation</a><br/>\n",
       "            "
      ],
      "text/plain": [
       "<IPython.core.display.HTML object>"
      ]
     },
     "metadata": {},
     "output_type": "display_data"
    },
    {
     "name": "stderr",
     "output_type": "stream",
     "text": [
      "ERROR:wandb.jupyter:Failed to query for notebook name, you can set it manually with the WANDB_NOTEBOOK_NAME environment variable\n",
      "\u001b[34m\u001b[1mwandb\u001b[0m: Wandb version 0.9.3 is available!  To upgrade, please run:\n",
      "\u001b[34m\u001b[1mwandb\u001b[0m:  $ pip install wandb --upgrade\n",
      "ERROR:wandb.run_manager:Streaming file created twice in same run: /home/jupyter-rdutt2/Raman Data/wandb/run-20200716_192607-BiT_HIV_Rx50_2_NO_Augmentation/wandb-events.jsonl\n"
     ]
    }
   ],
   "source": [
    "config_defaults = dict(\n",
    "    batch_size=BATCH_SIZE,\n",
    "    momentum=momentum,\n",
    "    learn_rate=lr\n",
    "    )\n",
    "wandb.init(project=\"summer-2020\", id=\"BiT_HIV_Rx50_2_NO_Augmentation\", config=config_defaults) \n",
    "config = wandb.config"
   ]
  },
  {
   "cell_type": "code",
   "execution_count": 43,
   "metadata": {},
   "outputs": [],
   "source": [
    "lr_schedule = tf.keras.optimizers.schedules.PiecewiseConstantDecay(boundaries=SCHEDULE_BOUNDARIES, \n",
    "                                                                   values=[config.learn_rate, config.learn_rate*0.1, \n",
    "                                                                           config.learn_rate*0.001, config.learn_rate*0.0001])\n",
    "optimizer = tf.keras.optimizers.SGD(learning_rate=lr_schedule, momentum=config.momentum)\n",
    "opt2 = tf.keras.optimizers.SGD(learning_rate=config.learn_rate, momentum=config.momentum)\n",
    "\n",
    "loss_fn = tf.keras.losses.SparseCategoricalCrossentropy(from_logits=True)\n",
    "\n",
    "aug = ImageDataGenerator()"
   ]
  },
  {
   "cell_type": "code",
   "execution_count": 44,
   "metadata": {},
   "outputs": [
    {
     "name": "stdout",
     "output_type": "stream",
     "text": [
      "https://tfhub.dev/google/bit/m-r50x1/1\n"
     ]
    }
   ],
   "source": [
    "module = get_module()\n",
    "model = MyBiTModel(num_classes=2, module=module)\n"
   ]
  },
  {
   "cell_type": "code",
   "execution_count": 45,
   "metadata": {},
   "outputs": [],
   "source": [
    "model.compile(optimizer=optimizer,\n",
    "              loss=loss_fn,\n",
    "              metrics=['accuracy'])"
   ]
  },
  {
   "cell_type": "code",
   "execution_count": 46,
   "metadata": {},
   "outputs": [],
   "source": [
    "es = EarlyStopping(patience=10, verbose=1, monitor='val_loss')\n",
    "wb = WandbCallback(monitor='val_loss', save_weights_only=False, save_model=True)\n",
    "callbacks = [es, wb]"
   ]
  },
  {
   "cell_type": "code",
   "execution_count": 47,
   "metadata": {
    "scrolled": true
   },
   "outputs": [
    {
     "name": "stdout",
     "output_type": "stream",
     "text": [
      "Epoch 1/50\n"
     ]
    },
    {
     "name": "stderr",
     "output_type": "stream",
     "text": [
      "ERROR:wandb.jupyter:Failed to query for notebook name, you can set it manually with the WANDB_NOTEBOOK_NAME environment variable\n",
      "\u001b[34m\u001b[1mwandb\u001b[0m: Wandb version 0.9.3 is available!  To upgrade, please run:\n",
      "\u001b[34m\u001b[1mwandb\u001b[0m:  $ pip install wandb --upgrade\n"
     ]
    },
    {
     "name": "stdout",
     "output_type": "stream",
     "text": [
      "10/10 [==============================] - ETA: 0s - loss: 0.6761 - accuracy: 1.0000"
     ]
    },
    {
     "name": "stderr",
     "output_type": "stream",
     "text": [
      "\u001b[34m\u001b[1mwandb\u001b[0m: \u001b[32m\u001b[41mERROR\u001b[0m Can't save model, h5py returned error: Saving the model to HDF5 format requires the model to be a Functional model or a Sequential model. It does not work for subclassed models, because such models are defined via the body of a Python method, which isn't safely serializable. Consider saving to the Tensorflow SavedModel format (by setting save_format=\"tf\") or using `save_weights`.\n"
     ]
    },
    {
     "name": "stdout",
     "output_type": "stream",
     "text": [
      "10/10 [==============================] - 132s 13s/step - loss: 0.6761 - accuracy: 1.0000 - val_loss: 0.6414 - val_accuracy: 1.0000\n",
      "Epoch 2/50\n",
      "10/10 [==============================] - 130s 13s/step - loss: 0.6029 - accuracy: 1.0000 - val_loss: 0.5544 - val_accuracy: 1.0000\n",
      "Epoch 3/50\n",
      "10/10 [==============================] - 129s 13s/step - loss: 0.5184 - accuracy: 1.0000 - val_loss: 0.4736 - val_accuracy: 1.0000\n",
      "Epoch 4/50\n",
      "10/10 [==============================] - 127s 13s/step - loss: 0.4441 - accuracy: 1.0000 - val_loss: 0.4088 - val_accuracy: 1.0000\n",
      "Epoch 5/50\n",
      "10/10 [==============================] - 128s 13s/step - loss: 0.3885 - accuracy: 1.0000 - val_loss: 0.3592 - val_accuracy: 1.0000\n",
      "Epoch 6/50\n",
      "10/10 [==============================] - 129s 13s/step - loss: 0.3425 - accuracy: 1.0000 - val_loss: 0.3214 - val_accuracy: 1.0000\n",
      "Epoch 7/50\n",
      "10/10 [==============================] - 132s 13s/step - loss: 0.3094 - accuracy: 1.0000 - val_loss: 0.2921 - val_accuracy: 1.0000\n",
      "Epoch 8/50\n",
      "10/10 [==============================] - 131s 13s/step - loss: 0.2822 - accuracy: 1.0000 - val_loss: 0.2692 - val_accuracy: 1.0000\n",
      "Epoch 9/50\n",
      "10/10 [==============================] - 131s 13s/step - loss: 0.2628 - accuracy: 1.0000 - val_loss: 0.2508 - val_accuracy: 1.0000\n",
      "Epoch 10/50\n",
      "10/10 [==============================] - 133s 13s/step - loss: 0.2467 - accuracy: 1.0000 - val_loss: 0.2362 - val_accuracy: 1.0000\n",
      "Epoch 11/50\n",
      "10/10 [==============================] - 133s 13s/step - loss: 0.2325 - accuracy: 1.0000 - val_loss: 0.2241 - val_accuracy: 1.0000\n",
      "Epoch 12/50\n",
      "10/10 [==============================] - 132s 13s/step - loss: 0.2248 - accuracy: 1.0000 - val_loss: 0.2140 - val_accuracy: 1.0000\n",
      "Epoch 13/50\n",
      "10/10 [==============================] - 132s 13s/step - loss: 0.2132 - accuracy: 1.0000 - val_loss: 0.2057 - val_accuracy: 1.0000\n",
      "Epoch 14/50\n",
      "10/10 [==============================] - 130s 13s/step - loss: 0.2137 - accuracy: 1.0000 - val_loss: 0.1985 - val_accuracy: 1.0000\n",
      "Epoch 15/50\n",
      "10/10 [==============================] - 132s 13s/step - loss: 0.2052 - accuracy: 1.0000 - val_loss: 0.1925 - val_accuracy: 1.0000\n",
      "Epoch 16/50\n",
      "10/10 [==============================] - 132s 13s/step - loss: 0.1905 - accuracy: 1.0000 - val_loss: 0.1871 - val_accuracy: 1.0000\n",
      "Epoch 17/50\n",
      "10/10 [==============================] - 132s 13s/step - loss: 0.1851 - accuracy: 1.0000 - val_loss: 0.1824 - val_accuracy: 1.0000\n",
      "Epoch 18/50\n",
      "10/10 [==============================] - 131s 13s/step - loss: 0.1871 - accuracy: 1.0000 - val_loss: 0.1783 - val_accuracy: 1.0000\n",
      "Epoch 19/50\n",
      "10/10 [==============================] - 130s 13s/step - loss: 0.1846 - accuracy: 1.0000 - val_loss: 0.1747 - val_accuracy: 1.0000\n",
      "Epoch 20/50\n",
      "10/10 [==============================] - 130s 13s/step - loss: 0.1814 - accuracy: 1.0000 - val_loss: 0.1715 - val_accuracy: 1.0000\n",
      "Epoch 21/50\n",
      "10/10 [==============================] - 133s 13s/step - loss: 0.1772 - accuracy: 1.0000 - val_loss: 0.1687 - val_accuracy: 1.0000\n",
      "Epoch 22/50\n",
      "10/10 [==============================] - 133s 13s/step - loss: 0.1782 - accuracy: 1.0000 - val_loss: 0.1662 - val_accuracy: 1.0000\n",
      "Epoch 23/50\n",
      "10/10 [==============================] - 132s 13s/step - loss: 0.1760 - accuracy: 1.0000 - val_loss: 0.1640 - val_accuracy: 1.0000\n",
      "Epoch 24/50\n",
      "10/10 [==============================] - 131s 13s/step - loss: 0.1665 - accuracy: 1.0000 - val_loss: 0.1619 - val_accuracy: 1.0000\n",
      "Epoch 25/50\n",
      "10/10 [==============================] - 130s 13s/step - loss: 0.1658 - accuracy: 1.0000 - val_loss: 0.1600 - val_accuracy: 1.0000\n",
      "Epoch 26/50\n",
      "10/10 [==============================] - 130s 13s/step - loss: 0.1703 - accuracy: 1.0000 - val_loss: 0.1583 - val_accuracy: 1.0000\n",
      "Epoch 27/50\n",
      "10/10 [==============================] - 133s 13s/step - loss: 0.1625 - accuracy: 1.0000 - val_loss: 0.1568 - val_accuracy: 1.0000\n",
      "Epoch 28/50\n",
      "10/10 [==============================] - 132s 13s/step - loss: 0.1605 - accuracy: 1.0000 - val_loss: 0.1553 - val_accuracy: 1.0000\n",
      "Epoch 29/50\n",
      "10/10 [==============================] - 130s 13s/step - loss: 0.1553 - accuracy: 1.0000 - val_loss: 0.1540 - val_accuracy: 1.0000\n",
      "Epoch 30/50\n",
      "10/10 [==============================] - 134s 13s/step - loss: 0.1648 - accuracy: 1.0000 - val_loss: 0.1528 - val_accuracy: 1.0000\n",
      "Epoch 31/50\n",
      "10/10 [==============================] - 139s 14s/step - loss: 0.1529 - accuracy: 1.0000 - val_loss: 0.1517 - val_accuracy: 1.0000\n",
      "Epoch 32/50\n",
      "10/10 [==============================] - 139s 14s/step - loss: 0.1568 - accuracy: 1.0000 - val_loss: 0.1507 - val_accuracy: 1.0000\n",
      "Epoch 33/50\n",
      "10/10 [==============================] - 141s 14s/step - loss: 0.1600 - accuracy: 1.0000 - val_loss: 0.1497 - val_accuracy: 1.0000\n",
      "Epoch 34/50\n",
      "10/10 [==============================] - 135s 14s/step - loss: 0.1617 - accuracy: 1.0000 - val_loss: 0.1489 - val_accuracy: 1.0000\n",
      "Epoch 35/50\n",
      "10/10 [==============================] - 133s 13s/step - loss: 0.1554 - accuracy: 1.0000 - val_loss: 0.1481 - val_accuracy: 1.0000\n",
      "Epoch 36/50\n",
      "10/10 [==============================] - 137s 14s/step - loss: 0.1604 - accuracy: 1.0000 - val_loss: 0.1474 - val_accuracy: 1.0000\n",
      "Epoch 37/50\n",
      "10/10 [==============================] - 140s 14s/step - loss: 0.1584 - accuracy: 1.0000 - val_loss: 0.1468 - val_accuracy: 1.0000\n",
      "Epoch 38/50\n",
      "10/10 [==============================] - 142s 14s/step - loss: 0.1545 - accuracy: 1.0000 - val_loss: 0.1462 - val_accuracy: 1.0000\n",
      "Epoch 39/50\n",
      "10/10 [==============================] - 136s 14s/step - loss: 0.1492 - accuracy: 1.0000 - val_loss: 0.1456 - val_accuracy: 1.0000\n",
      "Epoch 40/50\n",
      "10/10 [==============================] - 134s 13s/step - loss: 0.1470 - accuracy: 1.0000 - val_loss: 0.1450 - val_accuracy: 1.0000\n",
      "Epoch 41/50\n",
      "10/10 [==============================] - 133s 13s/step - loss: 0.1427 - accuracy: 1.0000 - val_loss: 0.1444 - val_accuracy: 1.0000\n",
      "Epoch 42/50\n",
      "10/10 [==============================] - 143s 14s/step - loss: 0.1466 - accuracy: 1.0000 - val_loss: 0.1439 - val_accuracy: 1.0000\n",
      "Epoch 43/50\n",
      "10/10 [==============================] - 135s 14s/step - loss: 0.1505 - accuracy: 1.0000 - val_loss: 0.1434 - val_accuracy: 1.0000\n",
      "Epoch 44/50\n",
      "10/10 [==============================] - 147s 15s/step - loss: 0.1395 - accuracy: 1.0000 - val_loss: 0.1430 - val_accuracy: 1.0000\n",
      "Epoch 45/50\n",
      "10/10 [==============================] - 139s 14s/step - loss: 0.1357 - accuracy: 1.0000 - val_loss: 0.1425 - val_accuracy: 1.0000\n",
      "Epoch 46/50\n",
      "10/10 [==============================] - 146s 15s/step - loss: 0.1430 - accuracy: 1.0000 - val_loss: 0.1421 - val_accuracy: 1.0000\n",
      "Epoch 47/50\n",
      "10/10 [==============================] - 154s 15s/step - loss: 0.1520 - accuracy: 1.0000 - val_loss: 0.1417 - val_accuracy: 1.0000\n",
      "Epoch 48/50\n",
      "10/10 [==============================] - 158s 16s/step - loss: 0.1573 - accuracy: 1.0000 - val_loss: 0.1414 - val_accuracy: 1.0000\n",
      "Epoch 49/50\n",
      "10/10 [==============================] - 154s 15s/step - loss: 0.1459 - accuracy: 1.0000 - val_loss: 0.1411 - val_accuracy: 1.0000\n",
      "Epoch 50/50\n",
      "10/10 [==============================] - 136s 14s/step - loss: 0.1360 - accuracy: 1.0000 - val_loss: 0.1408 - val_accuracy: 1.0000\n"
     ]
    }
   ],
   "source": [
    "history = model.fit(aug.flow(x_train, y_train, batch_size=BATCH_SIZE),\n",
    "          epochs=50,\n",
    "          verbose=1,\n",
    "          steps_per_epoch = 10,\n",
    "          validation_data=(x_val, y_val), callbacks=callbacks)"
   ]
  },
  {
   "cell_type": "code",
   "execution_count": 50,
   "metadata": {},
   "outputs": [
    {
     "name": "stdout",
     "output_type": "stream",
     "text": [
      "INFO:tensorflow:Assets written to: Models/HIV/BiT-HiV-Imbalanced-ResNet50x1-2.h5/assets\n"
     ]
    },
    {
     "name": "stderr",
     "output_type": "stream",
     "text": [
      "INFO:tensorflow:Assets written to: Models/HIV/BiT-HiV-Imbalanced-ResNet50x1-2.h5/assets\n"
     ]
    }
   ],
   "source": [
    "model_dir = 'Models/HIV/'\n",
    "model_name = 'BiT-HiV-Imbalanced-ResNet50x1-2'\n",
    "tf.saved_model.save(model, model_dir+model_name)"
   ]
  },
  {
   "cell_type": "code",
   "execution_count": 48,
   "metadata": {},
   "outputs": [
    {
     "data": {
      "image/png": "[encoded data removed]",
      "text/plain": [
       "<Figure size 432x288 with 1 Axes>"
      ]
     },
     "metadata": {
      "needs_background": "light"
     },
     "output_type": "display_data"
    }
   ],
   "source": [
    "plot_acc(history)"
   ]
  },
  {
   "cell_type": "code",
   "execution_count": 49,
   "metadata": {},
   "outputs": [
    {
     "data": {
      "image/png": "[encoded data removed]",
      "text/plain": [
       "<Figure size 432x288 with 1 Axes>"
      ]
     },
     "metadata": {
      "needs_background": "light"
     },
     "output_type": "display_data"
    }
   ],
   "source": [
    "plot_loss(history)"
   ]
  },
  {
   "cell_type": "markdown",
   "metadata": {},
   "source": [
    "# Testing"
   ]
  },
  {
   "cell_type": "code",
   "execution_count": null,
   "metadata": {},
   "outputs": [],
   "source": [
    "x_test = create_image_data(dataset='hiv', split='test', img_spec='std')\n",
    "print(x_test.shape)"
   ]
  },
  {
   "cell_type": "code",
   "execution_count": null,
   "metadata": {},
   "outputs": [],
   "source": [
    "dataset='hiv'\n",
    "img_spec='std'\n",
    "split='test'\n",
    "path=dataset+'/'+dataset+'-featurized/smiles2img/'+img_spec+'/index/'+split+'_dir/'\n",
    "os.path.exists(path)"
   ]
  },
  {
   "cell_type": "code",
   "execution_count": null,
   "metadata": {},
   "outputs": [],
   "source": [
    "'''x4=joblib.load(path+'shard-4-X.joblib')\n",
    "x5=joblib.load(path+'shard-5-X.joblib')\n",
    "images=np.concatenate((x4, x5))\n",
    "images.shape'''"
   ]
  },
  {
   "cell_type": "code",
   "execution_count": null,
   "metadata": {},
   "outputs": [],
   "source": [
    "y4=joblib.load(path+'shard-4-y.joblib')\n",
    "y5=joblib.load(path+'shard-5-y.joblib')\n",
    "labels=np.concatenate((y4, y5))\n",
    "labels.shape"
   ]
  },
  {
   "cell_type": "code",
   "execution_count": null,
   "metadata": {},
   "outputs": [],
   "source": [
    "path='Models/HIV/'\n",
    "os.listdir(path)"
   ]
  },
  {
   "cell_type": "code",
   "execution_count": null,
   "metadata": {},
   "outputs": [],
   "source": [
    "saved_module = hub.KerasLayer(path+'BiT-HiV-Imbalanced-ResNet50x1-1-full_model.h5/', trainable=True)"
   ]
  },
  {
   "cell_type": "code",
   "execution_count": null,
   "metadata": {},
   "outputs": [],
   "source": [
    "_image = x_test[0]\n",
    "image = np.expand_dims(_image, 0)\n",
    "print(image.shape)\n",
    "logits = saved_module(image)\n",
    "len(logits)"
   ]
  },
  {
   "cell_type": "code",
   "execution_count": null,
   "metadata": {},
   "outputs": [],
   "source": [
    "logits.shape"
   ]
  },
  {
   "cell_type": "code",
   "execution_count": null,
   "metadata": {},
   "outputs": [],
   "source": []
  }
 ],
 "metadata": {
  "kernelspec": {
   "display_name": "Python 3",
   "language": "python",
   "name": "python3"
  },
  "language_info": {
   "codemirror_mode": {
    "name": "ipython",
    "version": 3
   },
   "file_extension": ".py",
   "mimetype": "text/x-python",
   "name": "python",
   "nbconvert_exporter": "python",
   "pygments_lexer": "ipython3",
   "version": "3.7.3"
  }
 },
 "nbformat": 4,
 "nbformat_minor": 4
}
